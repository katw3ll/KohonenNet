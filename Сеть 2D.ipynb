{
 "cells": [
  {
   "cell_type": "code",
   "execution_count": 1,
   "metadata": {},
   "outputs": [],
   "source": [
    "import numpy as np\n",
    "import random"
   ]
  },
  {
   "cell_type": "code",
   "execution_count": 2,
   "metadata": {},
   "outputs": [],
   "source": [
    "def random_weight(n): # Случайное число от 0 до n\n",
    "    return int(random.random()*n)"
   ]
  },
  {
   "cell_type": "code",
   "execution_count": 3,
   "metadata": {},
   "outputs": [],
   "source": [
    "class KohonenNetwork:\n",
    "    # Инициализация класса, основные переменные класса\n",
    "    # block_size -  размер блока, number_of_neurons - количество ядер в сети (нейронов)\n",
    "    def __init__(self, block_size = 2*1, number_of_neurons=2): \n",
    "        self.net = []\n",
    "        self.block_size = block_size\n",
    "        self.number_of_neurons = number_of_neurons\n",
    "    \n",
    "    # Обнуление нейронной сети, задание случайных ядер\n",
    "    def new(self): \n",
    "        self.net = []\n",
    "        for i in range(self.number_of_neurons):\n",
    "            temp = []\n",
    "            for j in range(self.block_size):\n",
    "                temp.append(random_weight(10))\n",
    "            self.net.append(temp)          \n",
    "    \n",
    "    # Функия находит нейрон победитель\n",
    "    # X_in - это один вектор из всех наших векторов\n",
    "    def find_neuron_win(self,X_in):\n",
    "        tmp=self.net-X_in\n",
    "        tmp1=tmp*tmp\n",
    "        tmp2=np.sum(tmp1, axis=1)\n",
    "        num_max_neuron=np.argmin(tmp2)\n",
    "        return num_max_neuron\n",
    "    \n",
    "    # Функция корректирует веса нейрона neuron_num используя вектор X_in\n",
    "    # speed - это значение скорости обучения\n",
    "    def correct_weight_neuron(self, X_in, neuron_num, speed):\n",
    "        self.net[neuron_num]+=speed*(X_in-self.net[neuron_num])\n",
    "    \n",
    "    # Обучение сети\n",
    "    def learning_from_data(self, X):\n",
    "        # Вывод входных данных\n",
    "        print('Данные для обучения: ')\n",
    "        for i in range(len(X)):\n",
    "            print(X[i])\n",
    "        print()\n",
    "        \n",
    "        # Вывод исходных данных\n",
    "        print('Веса ядер до обучения: ')\n",
    "        for i in range(len(self.net)):\n",
    "            print(self.net[i], \"->\", i)\n",
    "        print()\n",
    "        \n",
    "        # Само обучение\n",
    "        for i in range(1000):\n",
    "            win=self.find_neuron_win(X[i%4])\n",
    "            self.correct_weight_neuron(X[i%4], win, 1.0/(i+1))\n",
    "            \n",
    "        # Вывод результата\n",
    "        print('Веса ядер после обучения: ')\n",
    "        for i in range(len(self.net)):\n",
    "            print(self.net[i], \"->\", i)\n",
    "            \n",
    "    # Функция для просмотра того, как нейронная сеть распределяет на блоки\n",
    "    def test_data(self, X): \n",
    "        print(\"Нейронная сеть распределила блоки так:\")\n",
    "        for i in range(len(X)):\n",
    "            print(X[i], \"->\", self.find_neuron_win(X[i]))"
   ]
  },
  {
   "cell_type": "code",
   "execution_count": 4,
   "metadata": {},
   "outputs": [
    {
     "name": "stdout",
     "output_type": "stream",
     "text": [
      "[[3, 8], [7, 3]]\n"
     ]
    }
   ],
   "source": [
    "K_NET = KohonenNetwork()\n",
    "K_NET.new() # обнуляем веса \n",
    "\n",
    "print (K_NET.net) # Смотрим начальные ядра\n",
    "\n",
    "X = np.array([\n",
    "    [1,2],\n",
    "    [1,1],\n",
    "    [2,1],\n",
    "    [7,7],\n",
    "    [6,8]\n",
    "])"
   ]
  },
  {
   "cell_type": "code",
   "execution_count": 5,
   "metadata": {},
   "outputs": [
    {
     "name": "stdout",
     "output_type": "stream",
     "text": [
      "Данные для обучения: \n",
      "[1 2]\n",
      "[1 1]\n",
      "[2 1]\n",
      "[7 7]\n",
      "[6 8]\n",
      "\n",
      "Веса ядер до обучения: \n",
      "[3, 8] -> 0\n",
      "[7, 3] -> 1\n",
      "\n",
      "Веса ядер после обучения: \n",
      "[ 6.1794059   7.20514852] -> 0\n",
      "[ 1.33333333  1.33333333] -> 1\n"
     ]
    }
   ],
   "source": [
    "#Обучение сети по данным X\n",
    "K_NET.learning_from_data(X)"
   ]
  },
  {
   "cell_type": "code",
   "execution_count": 6,
   "metadata": {},
   "outputs": [
    {
     "name": "stdout",
     "output_type": "stream",
     "text": [
      "Нейронная сеть распределила блоки так:\n",
      "[1 2] -> 1\n",
      "[1 1] -> 1\n",
      "[2 1] -> 1\n",
      "[7 7] -> 0\n",
      "[6 8] -> 0\n"
     ]
    }
   ],
   "source": [
    "# Проверка того, как нейронная сеть распределила данные\n",
    "K_NET.test_data(X)"
   ]
  }
 ],
 "metadata": {
  "kernelspec": {
   "display_name": "Python 3",
   "language": "python",
   "name": "python3"
  },
  "language_info": {
   "codemirror_mode": {
    "name": "ipython",
    "version": 3
   },
   "file_extension": ".py",
   "mimetype": "text/x-python",
   "name": "python",
   "nbconvert_exporter": "python",
   "pygments_lexer": "ipython3",
   "version": "3.5.3"
  }
 },
 "nbformat": 4,
 "nbformat_minor": 2
}
